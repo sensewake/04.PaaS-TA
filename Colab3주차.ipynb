{
  "nbformat": 4,
  "nbformat_minor": 0,
  "metadata": {
    "colab": {
      "provenance": [],
      "toc_visible": true,
      "authorship_tag": "ABX9TyPmEHk/Tg52lxSp9evWyGXX",
      "include_colab_link": true
    },
    "kernelspec": {
      "name": "python3",
      "display_name": "Python 3"
    },
    "language_info": {
      "name": "python"
    }
  },
  "cells": [
    {
      "cell_type": "markdown",
      "metadata": {
        "id": "view-in-github",
        "colab_type": "text"
      },
      "source": [
        "<a href=\"https://colab.research.google.com/github/sensewake/04.PaaS-TA/blob/main/Colab3%EC%A3%BC%EC%B0%A8.ipynb\" target=\"_parent\"><img src=\"https://colab.research.google.com/assets/colab-badge.svg\" alt=\"Open In Colab\"/></a>"
      ]
    },
    {
      "cell_type": "code",
      "source": [
        "## 전처리과정 start"
      ],
      "metadata": {
        "id": "Er6whV7CdWAZ"
      },
      "execution_count": null,
      "outputs": []
    },
    {
      "cell_type": "code",
      "execution_count": null,
      "metadata": {
        "colab": {
          "base_uri": "https://localhost:8080/",
          "height": 206
        },
        "id": "JdiHTPPIXAbv",
        "outputId": "8d1d75cc-c0f1-4390-c4bb-3cd50a704865"
      },
      "outputs": [
        {
          "output_type": "execute_result",
          "data": {
            "text/plain": [
              "                 lecture_id          access_date           user_id\n",
              "0  5f266927e67b8fcf4340c087  2020-08-18 23:15:34  78ff837c7cea9f33\n",
              "1  5f266927e67b8fcf4340c087  2020-08-04 11:56:07  2987aa87d23c9e3d\n",
              "2  5f266927e67b8fcf4340c087  2020-08-03 12:19:58  23182525e9996864\n",
              "3  5f266927e67b8fcf4340c087  2020-08-08 15:15:16  ffb6913842d617a5\n",
              "4  5f266927e67b8fcf4340c087  2020-08-04 10:30:59  2c6822e7e833dc95"
            ],
            "text/html": [
              "\n",
              "  <div id=\"df-1c8f25d6-8ed6-402c-bd66-1156b3808298\">\n",
              "    <div class=\"colab-df-container\">\n",
              "      <div>\n",
              "<style scoped>\n",
              "    .dataframe tbody tr th:only-of-type {\n",
              "        vertical-align: middle;\n",
              "    }\n",
              "\n",
              "    .dataframe tbody tr th {\n",
              "        vertical-align: top;\n",
              "    }\n",
              "\n",
              "    .dataframe thead th {\n",
              "        text-align: right;\n",
              "    }\n",
              "</style>\n",
              "<table border=\"1\" class=\"dataframe\">\n",
              "  <thead>\n",
              "    <tr style=\"text-align: right;\">\n",
              "      <th></th>\n",
              "      <th>lecture_id</th>\n",
              "      <th>access_date</th>\n",
              "      <th>user_id</th>\n",
              "    </tr>\n",
              "  </thead>\n",
              "  <tbody>\n",
              "    <tr>\n",
              "      <th>0</th>\n",
              "      <td>5f266927e67b8fcf4340c087</td>\n",
              "      <td>2020-08-18 23:15:34</td>\n",
              "      <td>78ff837c7cea9f33</td>\n",
              "    </tr>\n",
              "    <tr>\n",
              "      <th>1</th>\n",
              "      <td>5f266927e67b8fcf4340c087</td>\n",
              "      <td>2020-08-04 11:56:07</td>\n",
              "      <td>2987aa87d23c9e3d</td>\n",
              "    </tr>\n",
              "    <tr>\n",
              "      <th>2</th>\n",
              "      <td>5f266927e67b8fcf4340c087</td>\n",
              "      <td>2020-08-03 12:19:58</td>\n",
              "      <td>23182525e9996864</td>\n",
              "    </tr>\n",
              "    <tr>\n",
              "      <th>3</th>\n",
              "      <td>5f266927e67b8fcf4340c087</td>\n",
              "      <td>2020-08-08 15:15:16</td>\n",
              "      <td>ffb6913842d617a5</td>\n",
              "    </tr>\n",
              "    <tr>\n",
              "      <th>4</th>\n",
              "      <td>5f266927e67b8fcf4340c087</td>\n",
              "      <td>2020-08-04 10:30:59</td>\n",
              "      <td>2c6822e7e833dc95</td>\n",
              "    </tr>\n",
              "  </tbody>\n",
              "</table>\n",
              "</div>\n",
              "      <button class=\"colab-df-convert\" onclick=\"convertToInteractive('df-1c8f25d6-8ed6-402c-bd66-1156b3808298')\"\n",
              "              title=\"Convert this dataframe to an interactive table.\"\n",
              "              style=\"display:none;\">\n",
              "        \n",
              "  <svg xmlns=\"http://www.w3.org/2000/svg\" height=\"24px\"viewBox=\"0 0 24 24\"\n",
              "       width=\"24px\">\n",
              "    <path d=\"M0 0h24v24H0V0z\" fill=\"none\"/>\n",
              "    <path d=\"M18.56 5.44l.94 2.06.94-2.06 2.06-.94-2.06-.94-.94-2.06-.94 2.06-2.06.94zm-11 1L8.5 8.5l.94-2.06 2.06-.94-2.06-.94L8.5 2.5l-.94 2.06-2.06.94zm10 10l.94 2.06.94-2.06 2.06-.94-2.06-.94-.94-2.06-.94 2.06-2.06.94z\"/><path d=\"M17.41 7.96l-1.37-1.37c-.4-.4-.92-.59-1.43-.59-.52 0-1.04.2-1.43.59L10.3 9.45l-7.72 7.72c-.78.78-.78 2.05 0 2.83L4 21.41c.39.39.9.59 1.41.59.51 0 1.02-.2 1.41-.59l7.78-7.78 2.81-2.81c.8-.78.8-2.07 0-2.86zM5.41 20L4 18.59l7.72-7.72 1.47 1.35L5.41 20z\"/>\n",
              "  </svg>\n",
              "      </button>\n",
              "      \n",
              "  <style>\n",
              "    .colab-df-container {\n",
              "      display:flex;\n",
              "      flex-wrap:wrap;\n",
              "      gap: 12px;\n",
              "    }\n",
              "\n",
              "    .colab-df-convert {\n",
              "      background-color: #E8F0FE;\n",
              "      border: none;\n",
              "      border-radius: 50%;\n",
              "      cursor: pointer;\n",
              "      display: none;\n",
              "      fill: #1967D2;\n",
              "      height: 32px;\n",
              "      padding: 0 0 0 0;\n",
              "      width: 32px;\n",
              "    }\n",
              "\n",
              "    .colab-df-convert:hover {\n",
              "      background-color: #E2EBFA;\n",
              "      box-shadow: 0px 1px 2px rgba(60, 64, 67, 0.3), 0px 1px 3px 1px rgba(60, 64, 67, 0.15);\n",
              "      fill: #174EA6;\n",
              "    }\n",
              "\n",
              "    [theme=dark] .colab-df-convert {\n",
              "      background-color: #3B4455;\n",
              "      fill: #D2E3FC;\n",
              "    }\n",
              "\n",
              "    [theme=dark] .colab-df-convert:hover {\n",
              "      background-color: #434B5C;\n",
              "      box-shadow: 0px 1px 3px 1px rgba(0, 0, 0, 0.15);\n",
              "      filter: drop-shadow(0px 1px 2px rgba(0, 0, 0, 0.3));\n",
              "      fill: #FFFFFF;\n",
              "    }\n",
              "  </style>\n",
              "\n",
              "      <script>\n",
              "        const buttonEl =\n",
              "          document.querySelector('#df-1c8f25d6-8ed6-402c-bd66-1156b3808298 button.colab-df-convert');\n",
              "        buttonEl.style.display =\n",
              "          google.colab.kernel.accessAllowed ? 'block' : 'none';\n",
              "\n",
              "        async function convertToInteractive(key) {\n",
              "          const element = document.querySelector('#df-1c8f25d6-8ed6-402c-bd66-1156b3808298');\n",
              "          const dataTable =\n",
              "            await google.colab.kernel.invokeFunction('convertToInteractive',\n",
              "                                                     [key], {});\n",
              "          if (!dataTable) return;\n",
              "\n",
              "          const docLinkHtml = 'Like what you see? Visit the ' +\n",
              "            '<a target=\"_blank\" href=https://colab.research.google.com/notebooks/data_table.ipynb>data table notebook</a>'\n",
              "            + ' to learn more about interactive tables.';\n",
              "          element.innerHTML = '';\n",
              "          dataTable['output_type'] = 'display_data';\n",
              "          await google.colab.output.renderOutput(dataTable, element);\n",
              "          const docLink = document.createElement('div');\n",
              "          docLink.innerHTML = docLinkHtml;\n",
              "          element.appendChild(docLink);\n",
              "        }\n",
              "      </script>\n",
              "    </div>\n",
              "  </div>\n",
              "  "
            ]
          },
          "metadata": {},
          "execution_count": 2
        }
      ],
      "source": [
        "import pandas as pd\n",
        "sparta_data = pd.read_table('/content/access_detail.csv', sep=',')\n",
        "sparta_data.head()"
      ]
    },
    {
      "cell_type": "code",
      "source": [
        "print(type('Hell0!'))"
      ],
      "metadata": {
        "colab": {
          "base_uri": "https://localhost:8080/"
        },
        "id": "zrju_gqfagtK",
        "outputId": "4ff59783-3606-4bbd-e6df-32d40e072536"
      },
      "execution_count": null,
      "outputs": [
        {
          "output_type": "stream",
          "name": "stdout",
          "text": [
            "<class 'str'>\n"
          ]
        }
      ]
    },
    {
      "cell_type": "code",
      "source": [
        "print(type(sparta_data['access_date'][1]))"
      ],
      "metadata": {
        "colab": {
          "base_uri": "https://localhost:8080/"
        },
        "id": "k_IDvtUoaoTI",
        "outputId": "fa1fd029-5fdc-4c0e-d105-10acd59c6142"
      },
      "execution_count": null,
      "outputs": [
        {
          "output_type": "stream",
          "name": "stdout",
          "text": [
            "<class 'str'>\n"
          ]
        }
      ]
    },
    {
      "cell_type": "code",
      "source": [
        "format='%Y-%m-%dT%H:%M:%S.%f'\n",
        "sparta_data['access_date_time'] = pd.to_datetime(sparta_data['access_date'], format=format) \n",
        "#sparta_data.tail(5)"
      ],
      "metadata": {
        "id": "Uewl8TOWbGDj"
      },
      "execution_count": null,
      "outputs": []
    },
    {
      "cell_type": "code",
      "source": [
        "print(type(sparta_data['access_date'][0]))"
      ],
      "metadata": {
        "colab": {
          "base_uri": "https://localhost:8080/"
        },
        "id": "eVt_9WGCbnYf",
        "outputId": "1d52f10a-dac7-460c-9602-fb3480b6df37"
      },
      "execution_count": null,
      "outputs": [
        {
          "output_type": "stream",
          "name": "stdout",
          "text": [
            "<class 'str'>\n"
          ]
        }
      ]
    },
    {
      "cell_type": "code",
      "source": [
        "sparta_data['access_date_time_weekday'] = sparta_data['access_date_time'].dt.day_name() \n",
        "#sparta_data.tail(5)"
      ],
      "metadata": {
        "id": "njTMofcXcetV"
      },
      "execution_count": null,
      "outputs": []
    },
    {
      "cell_type": "code",
      "source": [
        "sparta_data['access_date_time_hour'] = sparta_data['access_date_time'].dt.hour\n",
        "#sparta_data.tail(5)\n",
        "# 전처리 end"
      ],
      "metadata": {
        "id": "IVWQVF99cgJt"
      },
      "execution_count": null,
      "outputs": []
    },
    {
      "cell_type": "code",
      "source": [
        "# 분석\n",
        "weeks = ['Monday', 'Tuesday', 'Wednesday', 'Thursday', 'Friday', 'Saturday', 'Sunday']\n",
        "weekdata = sparta_data.groupby('access_date_time_weekday')['user_id'].count()\n",
        "weekdata"
      ],
      "metadata": {
        "colab": {
          "base_uri": "https://localhost:8080/"
        },
        "id": "LPGtirCUgBbs",
        "outputId": "ba3da3cd-36bf-468c-9b4a-7f02c1e9789b"
      },
      "execution_count": null,
      "outputs": [
        {
          "output_type": "execute_result",
          "data": {
            "text/plain": [
              "access_date_time_weekday\n",
              "Friday        859\n",
              "Monday       1354\n",
              "Saturday      926\n",
              "Sunday       1541\n",
              "Thursday      937\n",
              "Tuesday      1624\n",
              "Wednesday     887\n",
              "Name: user_id, dtype: int64"
            ]
          },
          "metadata": {},
          "execution_count": 9
        }
      ]
    },
    {
      "cell_type": "code",
      "source": [
        "#week의 리스트에 따라 데이터들을 다시한번 재배열 할수 있어요!\n",
        "hourdata = sparta_data.groupby('access_date_time_hour')['user_id'].count()\n",
        "#hourdata = hourdata.sort_index() \n",
        "hourdata = hourdata.sort_index(ascending=False)\n",
        "#hourdata = hourdata.sort_index(ascending=True) \n",
        "hourdata"
      ],
      "metadata": {
        "colab": {
          "base_uri": "https://localhost:8080/"
        },
        "id": "MQzLUXBigDsY",
        "outputId": "61ee188a-e264-4c2f-ec27-0d3e6192d207"
      },
      "execution_count": null,
      "outputs": [
        {
          "output_type": "execute_result",
          "data": {
            "text/plain": [
              "access_date_time_hour\n",
              "23     426\n",
              "22     580\n",
              "21     581\n",
              "20     517\n",
              "19     445\n",
              "18    1115\n",
              "17     471\n",
              "16     523\n",
              "15     477\n",
              "14     387\n",
              "13     361\n",
              "12     259\n",
              "11     279\n",
              "10     297\n",
              "9      216\n",
              "8      126\n",
              "7       84\n",
              "6       62\n",
              "5       50\n",
              "4       65\n",
              "3      123\n",
              "2      144\n",
              "1      197\n",
              "0      343\n",
              "Name: user_id, dtype: int64"
            ]
          },
          "metadata": {},
          "execution_count": 10
        }
      ]
    },
    {
      "cell_type": "code",
      "source": [
        "# 분석 및 시각화 \n",
        "# 한글깨짐 해결 : 아래 주석 3줄을 실행 후 런타임 재실행을 한 후 코드 재실행을 하면 한글이 적용된다."
      ],
      "metadata": {
        "id": "tbSBftjigC-w"
      },
      "execution_count": null,
      "outputs": []
    },
    {
      "cell_type": "code",
      "source": [
        "\"\"\"\n",
        "!sudo apt-get install -y fonts-nanum\n",
        "!sudo fc-cache -fv\n",
        "!rm ~/.cache/matplotlib -rf\n",
        "\"\"\""
      ],
      "metadata": {
        "colab": {
          "base_uri": "https://localhost:8080/",
          "height": 36
        },
        "id": "mCnW_LHKlgM4",
        "outputId": "993c7916-e098-4aa2-ecb4-431ae3c53d46"
      },
      "execution_count": null,
      "outputs": [
        {
          "output_type": "execute_result",
          "data": {
            "text/plain": [
              "'\\n!sudo apt-get install -y fonts-nanum\\n!sudo fc-cache -fv\\n!rm ~/.cache/matplotlib -rf\\n'"
            ],
            "application/vnd.google.colaboratory.intrinsic+json": {
              "type": "string"
            }
          },
          "metadata": {},
          "execution_count": 20
        }
      ]
    },
    {
      "cell_type": "code",
      "source": [
        "# 한글깨짐1\n",
        "import platform\n",
        "from matplotlib import font_manager, rc\n",
        "path = \"c:/Windows/Fonts/malgun.ttf\"\n",
        "if platform.system() == 'Darwin':\n",
        "    rc('font', family='AppleGothic')\n",
        "elif platform.system() == 'Windows':\n",
        "    font_name = font_manager.FontProperties(fname=path).get_name()\n",
        "    rc('font', family=font_name)\n",
        "else:\n",
        "    print('Unknown system... sorry~~~~')"
      ],
      "metadata": {
        "colab": {
          "base_uri": "https://localhost:8080/"
        },
        "id": "fj8K4FjfjwVS",
        "outputId": "ec5bc561-f297-417c-8fff-e0e1bf7b9d14"
      },
      "execution_count": null,
      "outputs": [
        {
          "output_type": "stream",
          "name": "stdout",
          "text": [
            "Unknown system... sorry~~~~\n"
          ]
        }
      ]
    },
    {
      "cell_type": "code",
      "source": [
        "# 한글깨짐2"
      ],
      "metadata": {
        "id": "ulvcxg0Lk8pr"
      },
      "execution_count": null,
      "outputs": []
    },
    {
      "cell_type": "code",
      "source": [
        "import matplotlib.pyplot as plt \n",
        "import numpy as np\n",
        "\n",
        "plt.rc('font', family='NanumBarunGothic')"
      ],
      "metadata": {
        "id": "C5z6Z1mDfkpD"
      },
      "execution_count": null,
      "outputs": []
    },
    {
      "cell_type": "code",
      "source": [
        "#그래프 사이즈\n",
        "plt.figure(figsize=(10,5)) \n",
        "#그래프 x축 y축\n",
        "plt.bar(weekdata.index, weekdata) \n",
        "#그래프 명\n",
        "plt.title('요일별 수강 완료 수강생 수') \n",
        "#그래프 x축 레이블\n",
        "plt.xlabel('요일')\n",
        "#그래프 y축 레이블\n",
        "plt.ylabel('수강생(명)') \n",
        "#x축 레이블을 90도로 변환\n",
        "#plt.xticks(rotation=0) # 가로\n",
        "plt.xticks(rotation=45) \n",
        "#plt.xticks(rotation=90)  # 세로\n",
        "#그래프 출력\n",
        "plt.show()"
      ],
      "metadata": {
        "colab": {
          "base_uri": "https://localhost:8080/",
          "height": 384
        },
        "id": "YXiBkANLiaS6",
        "outputId": "51de04fe-f52f-483d-dbc4-2dcb064d44c1"
      },
      "execution_count": null,
      "outputs": [
        {
          "output_type": "display_data",
          "data": {
            "text/plain": [
              "<Figure size 720x360 with 1 Axes>"
            ],
            "image/png": "[encoded data removed]"
          },
          "metadata": {
            "needs_background": "light"
          }
        }
      ]
    },
    {
      "cell_type": "code",
      "source": [
        "#그래프 사이즈 변경\n",
        "plt.figure(figsize=(10,5)) \n",
        "#그래프 x축 y축\n",
        "plt.plot(hourdata.index, hourdata) \n",
        "#그래프 명\n",
        "plt.title('시간별 수강 완료 사용자 수') \n",
        "#그래프 x축 레이블\n",
        "plt.xlabel('시간')\n",
        "#그래프 y축 레이블\n",
        "plt.ylabel('사용자(명)') \n",
        "#x축 눈금 표시 하기\n",
        "plt.xticks(np.arange(24)) \n",
        "#그래프 출력\n",
        "plt.show()"
      ],
      "metadata": {
        "colab": {
          "base_uri": "https://localhost:8080/",
          "height": 349
        },
        "id": "Gbm9T54Dig9K",
        "outputId": "830dc542-d270-47bc-e1e7-718e4169e353"
      },
      "execution_count": null,
      "outputs": [
        {
          "output_type": "display_data",
          "data": {
            "text/plain": [
              "<Figure size 720x360 with 1 Axes>"
            ],
            "image/png": "[encoded data removed]"
          },
          "metadata": {
            "needs_background": "light"
          }
        }
      ]
    },
    {
      "cell_type": "code",
      "source": [
        "#피벗테이블 만들기\n",
        "#values : 열에 들어 가는 부분\n",
        "#index : 행에 들어가는 부분\n",
        "#aggfunc : 데이터 축약시 사용할 함수\n",
        "sparta_data_pivot_table = pd.pivot_table(sparta_data, values='user_id',\n",
        "index=['access_date_time_weekday'], \n",
        "columns=['access_date_time_hour'], \n",
        "aggfunc=\"count\").agg(weeks)\n",
        "sparta_data_pivot_table"
      ],
      "metadata": {
        "colab": {
          "base_uri": "https://localhost:8080/",
          "height": 342
        },
        "id": "ZdiquZEEnxEB",
        "outputId": "fcd4fdec-7cb0-4208-d486-8c36983edb61"
      },
      "execution_count": null,
      "outputs": [
        {
          "output_type": "execute_result",
          "data": {
            "text/plain": [
              "access_date_time_hour  0   1   2   3   4   5   6   7   8   9   ...  14  15  \\\n",
              "Monday                 67  31  30  27   3   5  19  14  28  22  ...  62  55   \n",
              "Tuesday                51  27  17  12   6   3   6  14  20  26  ...  41  56   \n",
              "Wednesday              47  19  12   8  10  15  14   3  22  20  ...  34  68   \n",
              "Thursday               39  30  10  15  14   2   5  11  10  18  ...  46  69   \n",
              "Friday                 72  36  20   9   5   1   5   2  10  34  ...  44  61   \n",
              "Saturday               31  17  10  22   7   4   4  19   9  51  ...  72  78   \n",
              "Sunday                 36  37  45  30  20  20   9  21  27  45  ...  88  90   \n",
              "\n",
              "access_date_time_hour   16  17   18  19   20   21   22  23  \n",
              "Monday                 101  84   68  86  119  117  118  86  \n",
              "Tuesday                 68  34  713  56   66   97   92  86  \n",
              "Wednesday               40  68   80  71   56   75   82  52  \n",
              "Thursday                80  60   61  61   70   62   94  65  \n",
              "Friday                  57  70   67  51   45   45   47  33  \n",
              "Saturday                66  82   55  26   47   70   52  37  \n",
              "Sunday                 111  73   71  94  114  115   95  67  \n",
              "\n",
              "[7 rows x 24 columns]"
            ],
            "text/html": [
              "\n",
              "  <div id=\"df-43e64a42-717f-44c3-a1cf-566ad19c845a\">\n",
              "    <div class=\"colab-df-container\">\n",
              "      <div>\n",
              "<style scoped>\n",
              "    .dataframe tbody tr th:only-of-type {\n",
              "        vertical-align: middle;\n",
              "    }\n",
              "\n",
              "    .dataframe tbody tr th {\n",
              "        vertical-align: top;\n",
              "    }\n",
              "\n",
              "    .dataframe thead th {\n",
              "        text-align: right;\n",
              "    }\n",
              "</style>\n",
              "<table border=\"1\" class=\"dataframe\">\n",
              "  <thead>\n",
              "    <tr style=\"text-align: right;\">\n",
              "      <th>access_date_time_hour</th>\n",
              "      <th>0</th>\n",
              "      <th>1</th>\n",
              "      <th>2</th>\n",
              "      <th>3</th>\n",
              "      <th>4</th>\n",
              "      <th>5</th>\n",
              "      <th>6</th>\n",
              "      <th>7</th>\n",
              "      <th>8</th>\n",
              "      <th>9</th>\n",
              "      <th>...</th>\n",
              "      <th>14</th>\n",
              "      <th>15</th>\n",
              "      <th>16</th>\n",
              "      <th>17</th>\n",
              "      <th>18</th>\n",
              "      <th>19</th>\n",
              "      <th>20</th>\n",
              "      <th>21</th>\n",
              "      <th>22</th>\n",
              "      <th>23</th>\n",
              "    </tr>\n",
              "  </thead>\n",
              "  <tbody>\n",
              "    <tr>\n",
              "      <th>Monday</th>\n",
              "      <td>67</td>\n",
              "      <td>31</td>\n",
              "      <td>30</td>\n",
              "      <td>27</td>\n",
              "      <td>3</td>\n",
              "      <td>5</td>\n",
              "      <td>19</td>\n",
              "      <td>14</td>\n",
              "      <td>28</td>\n",
              "      <td>22</td>\n",
              "      <td>...</td>\n",
              "      <td>62</td>\n",
              "      <td>55</td>\n",
              "      <td>101</td>\n",
              "      <td>84</td>\n",
              "      <td>68</td>\n",
              "      <td>86</td>\n",
              "      <td>119</td>\n",
              "      <td>117</td>\n",
              "      <td>118</td>\n",
              "      <td>86</td>\n",
              "    </tr>\n",
              "    <tr>\n",
              "      <th>Tuesday</th>\n",
              "      <td>51</td>\n",
              "      <td>27</td>\n",
              "      <td>17</td>\n",
              "      <td>12</td>\n",
              "      <td>6</td>\n",
              "      <td>3</td>\n",
              "      <td>6</td>\n",
              "      <td>14</td>\n",
              "      <td>20</td>\n",
              "      <td>26</td>\n",
              "      <td>...</td>\n",
              "      <td>41</td>\n",
              "      <td>56</td>\n",
              "      <td>68</td>\n",
              "      <td>34</td>\n",
              "      <td>713</td>\n",
              "      <td>56</td>\n",
              "      <td>66</td>\n",
              "      <td>97</td>\n",
              "      <td>92</td>\n",
              "      <td>86</td>\n",
              "    </tr>\n",
              "    <tr>\n",
              "      <th>Wednesday</th>\n",
              "      <td>47</td>\n",
              "      <td>19</td>\n",
              "      <td>12</td>\n",
              "      <td>8</td>\n",
              "      <td>10</td>\n",
              "      <td>15</td>\n",
              "      <td>14</td>\n",
              "      <td>3</td>\n",
              "      <td>22</td>\n",
              "      <td>20</td>\n",
              "      <td>...</td>\n",
              "      <td>34</td>\n",
              "      <td>68</td>\n",
              "      <td>40</td>\n",
              "      <td>68</td>\n",
              "      <td>80</td>\n",
              "      <td>71</td>\n",
              "      <td>56</td>\n",
              "      <td>75</td>\n",
              "      <td>82</td>\n",
              "      <td>52</td>\n",
              "    </tr>\n",
              "    <tr>\n",
              "      <th>Thursday</th>\n",
              "      <td>39</td>\n",
              "      <td>30</td>\n",
              "      <td>10</td>\n",
              "      <td>15</td>\n",
              "      <td>14</td>\n",
              "      <td>2</td>\n",
              "      <td>5</td>\n",
              "      <td>11</td>\n",
              "      <td>10</td>\n",
              "      <td>18</td>\n",
              "      <td>...</td>\n",
              "      <td>46</td>\n",
              "      <td>69</td>\n",
              "      <td>80</td>\n",
              "      <td>60</td>\n",
              "      <td>61</td>\n",
              "      <td>61</td>\n",
              "      <td>70</td>\n",
              "      <td>62</td>\n",
              "      <td>94</td>\n",
              "      <td>65</td>\n",
              "    </tr>\n",
              "    <tr>\n",
              "      <th>Friday</th>\n",
              "      <td>72</td>\n",
              "      <td>36</td>\n",
              "      <td>20</td>\n",
              "      <td>9</td>\n",
              "      <td>5</td>\n",
              "      <td>1</td>\n",
              "      <td>5</td>\n",
              "      <td>2</td>\n",
              "      <td>10</td>\n",
              "      <td>34</td>\n",
              "      <td>...</td>\n",
              "      <td>44</td>\n",
              "      <td>61</td>\n",
              "      <td>57</td>\n",
              "      <td>70</td>\n",
              "      <td>67</td>\n",
              "      <td>51</td>\n",
              "      <td>45</td>\n",
              "      <td>45</td>\n",
              "      <td>47</td>\n",
              "      <td>33</td>\n",
              "    </tr>\n",
              "    <tr>\n",
              "      <th>Saturday</th>\n",
              "      <td>31</td>\n",
              "      <td>17</td>\n",
              "      <td>10</td>\n",
              "      <td>22</td>\n",
              "      <td>7</td>\n",
              "      <td>4</td>\n",
              "      <td>4</td>\n",
              "      <td>19</td>\n",
              "      <td>9</td>\n",
              "      <td>51</td>\n",
              "      <td>...</td>\n",
              "      <td>72</td>\n",
              "      <td>78</td>\n",
              "      <td>66</td>\n",
              "      <td>82</td>\n",
              "      <td>55</td>\n",
              "      <td>26</td>\n",
              "      <td>47</td>\n",
              "      <td>70</td>\n",
              "      <td>52</td>\n",
              "      <td>37</td>\n",
              "    </tr>\n",
              "    <tr>\n",
              "      <th>Sunday</th>\n",
              "      <td>36</td>\n",
              "      <td>37</td>\n",
              "      <td>45</td>\n",
              "      <td>30</td>\n",
              "      <td>20</td>\n",
              "      <td>20</td>\n",
              "      <td>9</td>\n",
              "      <td>21</td>\n",
              "      <td>27</td>\n",
              "      <td>45</td>\n",
              "      <td>...</td>\n",
              "      <td>88</td>\n",
              "      <td>90</td>\n",
              "      <td>111</td>\n",
              "      <td>73</td>\n",
              "      <td>71</td>\n",
              "      <td>94</td>\n",
              "      <td>114</td>\n",
              "      <td>115</td>\n",
              "      <td>95</td>\n",
              "      <td>67</td>\n",
              "    </tr>\n",
              "  </tbody>\n",
              "</table>\n",
              "<p>7 rows × 24 columns</p>\n",
              "</div>\n",
              "      <button class=\"colab-df-convert\" onclick=\"convertToInteractive('df-43e64a42-717f-44c3-a1cf-566ad19c845a')\"\n",
              "              title=\"Convert this dataframe to an interactive table.\"\n",
              "              style=\"display:none;\">\n",
              "        \n",
              "  <svg xmlns=\"http://www.w3.org/2000/svg\" height=\"24px\"viewBox=\"0 0 24 24\"\n",
              "       width=\"24px\">\n",
              "    <path d=\"M0 0h24v24H0V0z\" fill=\"none\"/>\n",
              "    <path d=\"M18.56 5.44l.94 2.06.94-2.06 2.06-.94-2.06-.94-.94-2.06-.94 2.06-2.06.94zm-11 1L8.5 8.5l.94-2.06 2.06-.94-2.06-.94L8.5 2.5l-.94 2.06-2.06.94zm10 10l.94 2.06.94-2.06 2.06-.94-2.06-.94-.94-2.06-.94 2.06-2.06.94z\"/><path d=\"M17.41 7.96l-1.37-1.37c-.4-.4-.92-.59-1.43-.59-.52 0-1.04.2-1.43.59L10.3 9.45l-7.72 7.72c-.78.78-.78 2.05 0 2.83L4 21.41c.39.39.9.59 1.41.59.51 0 1.02-.2 1.41-.59l7.78-7.78 2.81-2.81c.8-.78.8-2.07 0-2.86zM5.41 20L4 18.59l7.72-7.72 1.47 1.35L5.41 20z\"/>\n",
              "  </svg>\n",
              "      </button>\n",
              "      \n",
              "  <style>\n",
              "    .colab-df-container {\n",
              "      display:flex;\n",
              "      flex-wrap:wrap;\n",
              "      gap: 12px;\n",
              "    }\n",
              "\n",
              "    .colab-df-convert {\n",
              "      background-color: #E8F0FE;\n",
              "      border: none;\n",
              "      border-radius: 50%;\n",
              "      cursor: pointer;\n",
              "      display: none;\n",
              "      fill: #1967D2;\n",
              "      height: 32px;\n",
              "      padding: 0 0 0 0;\n",
              "      width: 32px;\n",
              "    }\n",
              "\n",
              "    .colab-df-convert:hover {\n",
              "      background-color: #E2EBFA;\n",
              "      box-shadow: 0px 1px 2px rgba(60, 64, 67, 0.3), 0px 1px 3px 1px rgba(60, 64, 67, 0.15);\n",
              "      fill: #174EA6;\n",
              "    }\n",
              "\n",
              "    [theme=dark] .colab-df-convert {\n",
              "      background-color: #3B4455;\n",
              "      fill: #D2E3FC;\n",
              "    }\n",
              "\n",
              "    [theme=dark] .colab-df-convert:hover {\n",
              "      background-color: #434B5C;\n",
              "      box-shadow: 0px 1px 3px 1px rgba(0, 0, 0, 0.15);\n",
              "      filter: drop-shadow(0px 1px 2px rgba(0, 0, 0, 0.3));\n",
              "      fill: #FFFFFF;\n",
              "    }\n",
              "  </style>\n",
              "\n",
              "      <script>\n",
              "        const buttonEl =\n",
              "          document.querySelector('#df-43e64a42-717f-44c3-a1cf-566ad19c845a button.colab-df-convert');\n",
              "        buttonEl.style.display =\n",
              "          google.colab.kernel.accessAllowed ? 'block' : 'none';\n",
              "\n",
              "        async function convertToInteractive(key) {\n",
              "          const element = document.querySelector('#df-43e64a42-717f-44c3-a1cf-566ad19c845a');\n",
              "          const dataTable =\n",
              "            await google.colab.kernel.invokeFunction('convertToInteractive',\n",
              "                                                     [key], {});\n",
              "          if (!dataTable) return;\n",
              "\n",
              "          const docLinkHtml = 'Like what you see? Visit the ' +\n",
              "            '<a target=\"_blank\" href=https://colab.research.google.com/notebooks/data_table.ipynb>data table notebook</a>'\n",
              "            + ' to learn more about interactive tables.';\n",
              "          element.innerHTML = '';\n",
              "          dataTable['output_type'] = 'display_data';\n",
              "          await google.colab.output.renderOutput(dataTable, element);\n",
              "          const docLink = document.createElement('div');\n",
              "          docLink.innerHTML = docLinkHtml;\n",
              "          element.appendChild(docLink);\n",
              "        }\n",
              "      </script>\n",
              "    </div>\n",
              "  </div>\n",
              "  "
            ]
          },
          "metadata": {},
          "execution_count": 23
        }
      ]
    },
    {
      "cell_type": "code",
      "source": [
        "#그래프 사이즈 변경\n",
        "plt.figure(figsize=(14,5))\n",
        "#pcolor를 이용하여 heatmap 그리기\n",
        "plt.pcolor(sparta_data_pivot_table) \n",
        "#히트맵에서의 x축\n",
        "plt.xticks(np.arange(0.5, len(sparta_data_pivot_table.columns), 1), sparta_data_pivot_table.columns) \n",
        "#히트맵에서의 y축\n",
        "plt.yticks(np.arange(0.5, len(sparta_data_pivot_table.index), 1), sparta_data_pivot_table.index) \n",
        "#그래프 명\n",
        "plt.title('요일별 종료 시간 히트맵') \n",
        "#그래프 x축 레이블\n",
        "plt.xlabel('시간') \n",
        "#그래프 y축 레이블\n",
        "plt.ylabel('요일')\n",
        "#plt.colorbar() 명령어를 추가하면 그래프 옆에 숫자별 색상값을 나타내는 컬러바를 보여 줍니다 \n",
        "plt.colorbar()\n",
        "plt.show()"
      ],
      "metadata": {
        "colab": {
          "base_uri": "https://localhost:8080/",
          "height": 349
        },
        "id": "GcqZGNNio0-u",
        "outputId": "d7d8f070-22a7-490f-cd74-60b779a6158e"
      },
      "execution_count": null,
      "outputs": [
        {
          "output_type": "display_data",
          "data": {
            "text/plain": [
              "<Figure size 1008x360 with 2 Axes>"
            ],
            "image/png": "[encoded data removed]"
          },
          "metadata": {
            "needs_background": "light"
          }
        }
      ]
    },
    {
      "cell_type": "code",
      "source": [
        "np.arange(1,100,3) # 1~100 3간격으로 표시하기"
      ],
      "metadata": {
        "colab": {
          "base_uri": "https://localhost:8080/"
        },
        "id": "SmNWRiHbpCBZ",
        "outputId": "e696d516-aade-447a-ecf0-fa2f0b8c3c4c"
      },
      "execution_count": null,
      "outputs": [
        {
          "output_type": "execute_result",
          "data": {
            "text/plain": [
              "array([ 1,  4,  7, 10, 13, 16, 19, 22, 25, 28, 31, 34, 37, 40, 43, 46, 49,\n",
              "       52, 55, 58, 61, 64, 67, 70, 73, 76, 79, 82, 85, 88, 91, 94, 97])"
            ]
          },
          "metadata": {},
          "execution_count": 27
        }
      ]
    }
  ]
}